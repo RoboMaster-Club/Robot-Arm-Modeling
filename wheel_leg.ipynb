{
 "cells": [
  {
   "cell_type": "markdown",
   "metadata": {},
   "source": [
    "# Full 3D Model "
   ]
  },
  {
   "cell_type": "code",
   "execution_count": 3,
   "metadata": {},
   "outputs": [],
   "source": [
    "from sympy import *\n",
    "init_printing(use_unicode=True)"
   ]
  },
  {
   "cell_type": "code",
   "execution_count": null,
   "metadata": {},
   "outputs": [],
   "source": [
    "# define COM for state vector\n",
    "x, y, z, roll, pitch, yaw = symbols('x y z roll pitch yaw')\n",
    "\n",
    "# define symbols for angles (relative to robot)\n",
    "phi1L, phi2L, thetaL, phi1R, phi2R, thetaR = symbols('phi1L phi2L thetaL phi1R phi2R thetaR ')\n",
    "\n",
    "# lengths for offsets\n",
    "x1, y1, z1 = symbols('x1, y1, z1') # joint 1 offset\n",
    "L1, L2, R = symbols('L1 L2 R') # leg 1, leg 2, wheel  radius\n",
    "\n",
    "# center of mass positions relative to coordinate system on robot\n",
    "\n",
    "# left leg\n",
    "x_cm_L1 = x + x1 + L1/2 * cos(phi1L)\n",
    "z_cm_L1 = z + z1 + L1/2 * sin(phi1L)\n",
    "y_cm_L1 = y - y1\n",
    "\n",
    "x_cm_L2 = x + x1 + L1 * cos(phi1L) + L2/2 * cos(phi2L)\n",
    "z_cm_L2 = z + z1 + L1 * sin(phi1L) + L2/2 * sin(phi2L)\n",
    "y_cm_L2 = y - y1\n",
    "\n",
    "x_cm_wL = x + x1 + L1 * cos(phi1L) + L1 * cos(phi2L)\n",
    "z_cm_wL = z + z1 + L1 * sin(phi1L) + L1 * sin(phi2L)\n",
    "y_cm_wL = y - y1\n",
    "\n",
    "# right\n",
    "x_cm_R1 = x + x1 + L1/2 * cos(phi1R)\n",
    "z_cm_R1 = z + z1 + L1/2 * sin(phi1R)\n",
    "y_cm_R1 = y + y1\n",
    "\n",
    "x_cm_R2 = x + x1 + L1 * cos(phi1R) + L2/2 * cos(phi2R)\n",
    "z_cm_R2 = z + z1 + L1 * sin(phi1R) + L2/2 * sin(phi2R)\n",
    "y_cm_R2 = y + y1\n",
    "\n",
    "x_cm_wR = x + x1 + L1 * cos(phi1R) + L1 * cos(phi2R)\n",
    "z_cm_wR = z + z1 + L1 * sin(phi1R) + L1 * sin(phi2R)\n",
    "y_cm_wR = y + y1\n",
    "\n"
   ]
  }
 ],
 "metadata": {
  "kernelspec": {
   "display_name": "hackathons",
   "language": "python",
   "name": "python3"
  },
  "language_info": {
   "codemirror_mode": {
    "name": "ipython",
    "version": 3
   },
   "file_extension": ".py",
   "mimetype": "text/x-python",
   "name": "python",
   "nbconvert_exporter": "python",
   "pygments_lexer": "ipython3",
   "version": "3.11.5"
  }
 },
 "nbformat": 4,
 "nbformat_minor": 2
}
